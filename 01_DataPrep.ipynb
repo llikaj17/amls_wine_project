{
  "nbformat": 4,
  "nbformat_minor": 0,
  "metadata": {
    "colab": {
      "name": "01_DataPrep.ipynb",
      "provenance": []
    },
    "kernelspec": {
      "name": "python3",
      "display_name": "Python 3"
    },
    "language_info": {
      "name": "python"
    }
  },
  "cells": [
    {
      "cell_type": "code",
      "source": [
        "# /**\n",
        "# *                   _oo0oo_\n",
        "# *                  o8888888o\n",
        "# *                  88\" . \"88\n",
        "# *                  (| -_- |)\n",
        "# *                  0\\  =  /0\n",
        "# *                ___/`---'\\___\n",
        "# *              .' \\\\|     |// '.\n",
        "# *             / \\\\|||  :  |||// \\\n",
        "# *            / _||||| -:- |||||- \\\n",
        "# *           |   | \\\\\\  -  /// |   |\n",
        "# *           | \\_|  ''\\---/''  |_/ |\n",
        "# *           \\  .-\\__  '-'  ___/-. /\n",
        "# *         ___'. .'  /--.--\\  `. .'___\n",
        "# *      .\"\" '<  `.___\\_<|>_/___.' >' \"\".\n",
        "# *     | | :  `- \\`.;`\\ _ /`;.`/ - ` : | |\n",
        "# *     \\  \\ `_.   \\_ __\\ /__ _/   .-` /  /\n",
        "# * =====`-.____`.___ \\_____/___.-`___.-'=====\n",
        "# *                   `=---='\n",
        "# *\n",
        "# *\n",
        "# * ~~~~~~~~~~~~~~~~~~~~~~~~~~~~~~~~~~~~~~~~~~~\n",
        "# *\n",
        "# *   Buddha blesses your code to be bug free\n",
        "# */"
      ],
      "metadata": {
        "id": "005mX4Skn3z7"
      },
      "execution_count": 1,
      "outputs": []
    },
    {
      "cell_type": "markdown",
      "source": [
        "**Please note that this project is also influenced by a kaggle article:** [reference](https://www.kaggle.com/code/mgmarques/wines-type-and-quality-classification-exercises#notebook-container)"
      ],
      "metadata": {
        "id": "ILc21z0bkJzq"
      }
    },
    {
      "cell_type": "code",
      "source": [
        "!pip install git+https://github.com/oracle/Skater.git"
      ],
      "metadata": {
        "colab": {
          "base_uri": "https://localhost:8080/"
        },
        "id": "z0KCJ_qEbJtI",
        "outputId": "0f7217df-c65f-4ec4-fddb-b5058bfcd1b7"
      },
      "execution_count": 2,
      "outputs": [
        {
          "output_type": "stream",
          "name": "stdout",
          "text": [
            "Looking in indexes: https://pypi.org/simple, https://us-python.pkg.dev/colab-wheels/public/simple/\n",
            "Collecting git+https://github.com/oracle/Skater.git\n",
            "  Cloning https://github.com/oracle/Skater.git to /tmp/pip-req-build-jiy0awi5\n",
            "  Running command git clone -q https://github.com/oracle/Skater.git /tmp/pip-req-build-jiy0awi5\n",
            "Requirement already satisfied: scikit-learn>=0.19 in /usr/local/lib/python3.7/dist-packages (from skater==1.1.2b1) (1.0.2)\n",
            "Requirement already satisfied: scikit-image>=0.14 in /usr/local/lib/python3.7/dist-packages (from skater==1.1.2b1) (0.18.3)\n",
            "Requirement already satisfied: pandas>=0.22.0 in /usr/local/lib/python3.7/dist-packages (from skater==1.1.2b1) (1.3.5)\n",
            "Collecting lime>=0.1.1.21\n",
            "  Downloading lime-0.2.0.1.tar.gz (275 kB)\n",
            "\u001b[K     |████████████████████████████████| 275 kB 4.9 MB/s \n",
            "\u001b[?25hRequirement already satisfied: requests in /usr/local/lib/python3.7/dist-packages (from skater==1.1.2b1) (2.23.0)\n",
            "Requirement already satisfied: multiprocess in /usr/local/lib/python3.7/dist-packages (from skater==1.1.2b1) (0.70.13)\n",
            "Requirement already satisfied: dill>=0.2.6 in /usr/local/lib/python3.7/dist-packages (from skater==1.1.2b1) (0.3.5.1)\n",
            "Requirement already satisfied: joblib>=0.11 in /usr/local/lib/python3.7/dist-packages (from skater==1.1.2b1) (1.1.0)\n",
            "Requirement already satisfied: Jinja2>=2.10.1 in /usr/local/lib/python3.7/dist-packages (from skater==1.1.2b1) (2.11.3)\n",
            "Requirement already satisfied: pydotplus>=2.0.2 in /usr/local/lib/python3.7/dist-packages (from skater==1.1.2b1) (2.0.2)\n",
            "Requirement already satisfied: plotly>=3.2.0 in /usr/local/lib/python3.7/dist-packages (from skater==1.1.2b1) (5.5.0)\n",
            "Requirement already satisfied: bs4 in /usr/local/lib/python3.7/dist-packages (from skater==1.1.2b1) (0.0.1)\n",
            "Requirement already satisfied: six in /usr/local/lib/python3.7/dist-packages (from skater==1.1.2b1) (1.15.0)\n",
            "Requirement already satisfied: MarkupSafe>=0.23 in /usr/local/lib/python3.7/dist-packages (from Jinja2>=2.10.1->skater==1.1.2b1) (2.0.1)\n",
            "Requirement already satisfied: matplotlib in /usr/local/lib/python3.7/dist-packages (from lime>=0.1.1.21->skater==1.1.2b1) (3.2.2)\n",
            "Requirement already satisfied: numpy in /usr/local/lib/python3.7/dist-packages (from lime>=0.1.1.21->skater==1.1.2b1) (1.21.6)\n",
            "Requirement already satisfied: scipy in /usr/local/lib/python3.7/dist-packages (from lime>=0.1.1.21->skater==1.1.2b1) (1.4.1)\n",
            "Requirement already satisfied: tqdm in /usr/local/lib/python3.7/dist-packages (from lime>=0.1.1.21->skater==1.1.2b1) (4.64.0)\n",
            "Requirement already satisfied: python-dateutil>=2.7.3 in /usr/local/lib/python3.7/dist-packages (from pandas>=0.22.0->skater==1.1.2b1) (2.8.2)\n",
            "Requirement already satisfied: pytz>=2017.3 in /usr/local/lib/python3.7/dist-packages (from pandas>=0.22.0->skater==1.1.2b1) (2022.1)\n",
            "Requirement already satisfied: tenacity>=6.2.0 in /usr/local/lib/python3.7/dist-packages (from plotly>=3.2.0->skater==1.1.2b1) (8.0.1)\n",
            "Requirement already satisfied: pyparsing>=2.0.1 in /usr/local/lib/python3.7/dist-packages (from pydotplus>=2.0.2->skater==1.1.2b1) (3.0.9)\n",
            "Requirement already satisfied: tifffile>=2019.7.26 in /usr/local/lib/python3.7/dist-packages (from scikit-image>=0.14->skater==1.1.2b1) (2021.11.2)\n",
            "Requirement already satisfied: pillow!=7.1.0,!=7.1.1,>=4.3.0 in /usr/local/lib/python3.7/dist-packages (from scikit-image>=0.14->skater==1.1.2b1) (7.1.2)\n",
            "Requirement already satisfied: PyWavelets>=1.1.1 in /usr/local/lib/python3.7/dist-packages (from scikit-image>=0.14->skater==1.1.2b1) (1.3.0)\n",
            "Requirement already satisfied: imageio>=2.3.0 in /usr/local/lib/python3.7/dist-packages (from scikit-image>=0.14->skater==1.1.2b1) (2.4.1)\n",
            "Requirement already satisfied: networkx>=2.0 in /usr/local/lib/python3.7/dist-packages (from scikit-image>=0.14->skater==1.1.2b1) (2.6.3)\n",
            "Requirement already satisfied: kiwisolver>=1.0.1 in /usr/local/lib/python3.7/dist-packages (from matplotlib->lime>=0.1.1.21->skater==1.1.2b1) (1.4.2)\n",
            "Requirement already satisfied: cycler>=0.10 in /usr/local/lib/python3.7/dist-packages (from matplotlib->lime>=0.1.1.21->skater==1.1.2b1) (0.11.0)\n",
            "Requirement already satisfied: typing-extensions in /usr/local/lib/python3.7/dist-packages (from kiwisolver>=1.0.1->matplotlib->lime>=0.1.1.21->skater==1.1.2b1) (4.2.0)\n",
            "Requirement already satisfied: threadpoolctl>=2.0.0 in /usr/local/lib/python3.7/dist-packages (from scikit-learn>=0.19->skater==1.1.2b1) (3.1.0)\n",
            "Requirement already satisfied: beautifulsoup4 in /usr/local/lib/python3.7/dist-packages (from bs4->skater==1.1.2b1) (4.6.3)\n",
            "Requirement already satisfied: urllib3!=1.25.0,!=1.25.1,<1.26,>=1.21.1 in /usr/local/lib/python3.7/dist-packages (from requests->skater==1.1.2b1) (1.24.3)\n",
            "Requirement already satisfied: certifi>=2017.4.17 in /usr/local/lib/python3.7/dist-packages (from requests->skater==1.1.2b1) (2022.5.18.1)\n",
            "Requirement already satisfied: idna<3,>=2.5 in /usr/local/lib/python3.7/dist-packages (from requests->skater==1.1.2b1) (2.10)\n",
            "Requirement already satisfied: chardet<4,>=3.0.2 in /usr/local/lib/python3.7/dist-packages (from requests->skater==1.1.2b1) (3.0.4)\n",
            "Building wheels for collected packages: skater, lime\n",
            "  Building wheel for skater (setup.py) ... \u001b[?25l\u001b[?25hdone\n",
            "  Created wheel for skater: filename=skater-1.1.2b1-py3-none-any.whl size=4637019 sha256=a49559bcb4a4e4ecae52fab0926522191764276406f097bd465f43028995f066\n",
            "  Stored in directory: /tmp/pip-ephem-wheel-cache-1nrikaau/wheels/bc/e1/05/2b5d1c01d1e582236157f04b759d2e140ccc6703f599148c72\n",
            "  Building wheel for lime (setup.py) ... \u001b[?25l\u001b[?25hdone\n",
            "  Created wheel for lime: filename=lime-0.2.0.1-py3-none-any.whl size=283857 sha256=e52dd0e61bf02dd5f9d197c8969396cd1fdd5d41afd9ea936c2622d64e57257f\n",
            "  Stored in directory: /root/.cache/pip/wheels/ca/cb/e5/ac701e12d365a08917bf4c6171c0961bc880a8181359c66aa7\n",
            "Successfully built skater lime\n",
            "Installing collected packages: lime, skater\n",
            "Successfully installed lime-0.2.0.1 skater-1.1.2b1\n"
          ]
        }
      ]
    },
    {
      "cell_type": "code",
      "execution_count": 3,
      "metadata": {
        "id": "TsHWaF60biTq"
      },
      "outputs": [],
      "source": [
        "import os\n",
        "import warnings\n",
        "warnings.simplefilter(action = 'ignore', category=FutureWarning)\n",
        "warnings.filterwarnings('ignore')\n",
        "def ignore_warn(*args, **kwargs):\n",
        "    pass\n",
        "\n",
        "warnings.warn = ignore_warn #ignore annoying warning (from sklearn and seaborn)\n",
        "\n",
        "import numpy as np\n",
        "import pandas as pd\n",
        "import pylab \n",
        "import seaborn as sns\n",
        "sns.set(style=\"ticks\", color_codes=True, font_scale=1.5)\n",
        "from matplotlib import pyplot as plt\n",
        "from matplotlib.ticker import FormatStrFormatter\n",
        "from matplotlib.colors import ListedColormap\n",
        "%matplotlib inline\n",
        "import mpl_toolkits\n",
        "from mpl_toolkits.mplot3d import Axes3D\n",
        "from graphviz import Source\n",
        "from IPython.display import Image\n",
        "\n",
        "from scipy.stats import skew, norm, probplot, boxcox, f_oneway\n",
        "from scipy import interp\n",
        "from sklearn.base import BaseEstimator, TransformerMixin, clone, ClassifierMixin\n",
        "from sklearn import metrics, tree\n",
        "from sklearn.preprocessing import LabelEncoder, label_binarize, StandardScaler, PolynomialFeatures, MinMaxScaler\n",
        "\n",
        "from sklearn.decomposition import PCA\n",
        "from sklearn.discriminant_analysis import LinearDiscriminantAnalysis as LDA\n",
        "from sklearn.pipeline import Pipeline, make_pipeline\n",
        "from sklearn.model_selection import GridSearchCV, cross_val_score, KFold, cross_val_predict, train_test_split\n",
        "from sklearn.metrics import roc_auc_score, roc_curve, auc, accuracy_score\n",
        "\n",
        "from sklearn.linear_model import LogisticRegression\n",
        "from keras.models import Sequential\n",
        "from keras.layers import Dense\n",
        "from keras.wrappers.scikit_learn import KerasClassifier\n",
        "from sklearn.tree import DecisionTreeClassifier\n",
        "import xgboost as xgb\n",
        "from sklearn.gaussian_process import GaussianProcessClassifier\n",
        "from sklearn.ensemble import RandomForestClassifier, AdaBoostClassifier, ExtraTreesClassifier\n",
        "#from sklearn.ensemble.gradient_boosting import GradientBoostingClassifier\n",
        "from sklearn.neural_network import MLPClassifier\n",
        "from sklearn.neighbors import KNeighborsClassifier\n",
        "from sklearn.svm import SVC, LinearSVC\n",
        "import six\n",
        "import sys\n",
        "sys.modules['sklearn.externals.six'] = six\n",
        "from mlxtend.classifier import StackingClassifier\n",
        "from skater.core.local_interpretation.lime.lime_tabular import LimeTabularExplainer\n",
        "from skater.core.explanations import Interpretation\n",
        "from skater.model import InMemoryModel"
      ]
    },
    {
      "cell_type": "markdown",
      "source": [
        "## Load the datasets"
      ],
      "metadata": {
        "id": "bQ5VpMASd3S5"
      }
    },
    {
      "cell_type": "code",
      "source": [
        "from google.colab import files\n",
        "dataset_file_dict = files.upload()"
      ],
      "metadata": {
        "colab": {
          "resources": {
            "http://localhost:8080/nbextensions/google.colab/files.js": {
              "data": "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",
              "ok": true,
              "headers": [
                [
                  "content-type",
                  "application/javascript"
                ]
              ],
              "status": 200,
              "status_text": ""
            }
          },
          "base_uri": "https://localhost:8080/",
          "height": 109
        },
        "id": "KIFLCm99borq",
        "outputId": "09e840e2-900d-4418-f3aa-e1b9e6b0c735"
      },
      "execution_count": 4,
      "outputs": [
        {
          "output_type": "display_data",
          "data": {
            "text/plain": [
              "<IPython.core.display.HTML object>"
            ],
            "text/html": [
              "\n",
              "     <input type=\"file\" id=\"files-a1d5a008-5638-4f8c-b5b7-7f12cde9a15d\" name=\"files[]\" multiple disabled\n",
              "        style=\"border:none\" />\n",
              "     <output id=\"result-a1d5a008-5638-4f8c-b5b7-7f12cde9a15d\">\n",
              "      Upload widget is only available when the cell has been executed in the\n",
              "      current browser session. Please rerun this cell to enable.\n",
              "      </output>\n",
              "      <script src=\"/nbextensions/google.colab/files.js\"></script> "
            ]
          },
          "metadata": {}
        },
        {
          "output_type": "stream",
          "name": "stdout",
          "text": [
            "Saving winequality-red.csv to winequality-red.csv\n",
            "Saving winequality-white.csv to winequality-white.csv\n"
          ]
        }
      ]
    },
    {
      "cell_type": "code",
      "source": [
        "red = pd.read_csv(\"/content/winequality-red.csv\", sep=';')\n",
        "white = pd.read_csv(\"/content/winequality-white.csv\", sep=';')"
      ],
      "metadata": {
        "id": "9_lCVCksdVFC"
      },
      "execution_count": 5,
      "outputs": []
    },
    {
      "cell_type": "code",
      "source": [
        "#add type column for white or red wine\n",
        "red['type'] = 'red'\n",
        "white['type'] = 'white'"
      ],
      "metadata": {
        "id": "Qb9243EkkTI-"
      },
      "execution_count": 6,
      "outputs": []
    },
    {
      "cell_type": "code",
      "source": [
        "#merge datasets\n",
        "wine_data = pd.concat([red,white])"
      ],
      "metadata": {
        "id": "rq8PAMXldp83"
      },
      "execution_count": 7,
      "outputs": []
    },
    {
      "cell_type": "code",
      "source": [
        "wine_data.columns"
      ],
      "metadata": {
        "colab": {
          "base_uri": "https://localhost:8080/"
        },
        "id": "phAFJIwhh3E2",
        "outputId": "0abfe60e-87ca-447a-a47e-9706619b25fb"
      },
      "execution_count": 8,
      "outputs": [
        {
          "output_type": "execute_result",
          "data": {
            "text/plain": [
              "Index(['fixed acidity', 'volatile acidity', 'citric acid', 'residual sugar',\n",
              "       'chlorides', 'free sulfur dioxide', 'total sulfur dioxide', 'density',\n",
              "       'pH', 'sulphates', 'alcohol', 'quality', 'type'],\n",
              "      dtype='object')"
            ]
          },
          "metadata": {},
          "execution_count": 8
        }
      ]
    },
    {
      "cell_type": "markdown",
      "source": [
        "### Quality Score:\n",
        "\n",
        "\n",
        "*   Low: <=5\n",
        "*   Medium: 6>= x =<7\n",
        "*  High: >7\n",
        "\n"
      ],
      "metadata": {
        "id": "65naJIgoegSo"
      }
    },
    {
      "cell_type": "code",
      "source": [
        "wine_data['quality_label'] = wine_data['quality'].apply(lambda q: 'low' if q <= 5 else 'medium' if q <= 7 else 'high')\n",
        "#shuffle data\n",
        "wine_data = wine_data.sample(frac=1, random_state=101).reset_index(drop=True)"
      ],
      "metadata": {
        "id": "7YlIs1lReWMH"
      },
      "execution_count": 9,
      "outputs": []
    },
    {
      "cell_type": "code",
      "source": [
        "wine_data"
      ],
      "metadata": {
        "colab": {
          "base_uri": "https://localhost:8080/",
          "height": 502
        },
        "id": "cyv-lMRpgHtL",
        "outputId": "254b2d86-c93f-496b-bbfe-03f61a50b8ac"
      },
      "execution_count": 10,
      "outputs": [
        {
          "output_type": "execute_result",
          "data": {
            "text/plain": [
              "      fixed acidity  volatile acidity  citric acid  residual sugar  chlorides  \\\n",
              "0               6.8              0.56         0.22             1.8      0.074   \n",
              "1               6.4              0.30         0.36             2.0      0.052   \n",
              "2               5.9              0.17         0.29             3.1      0.030   \n",
              "3               7.0              0.24         0.24             1.8      0.047   \n",
              "4               6.4              0.45         0.07             1.1      0.030   \n",
              "...             ...               ...          ...             ...        ...   \n",
              "6492           12.7              0.59         0.45             2.3      0.082   \n",
              "6493            8.0              0.25         0.35             1.1      0.054   \n",
              "6494            8.3              0.85         0.14             2.5      0.093   \n",
              "6495            6.3              0.60         0.10             1.6      0.048   \n",
              "6496            7.1              0.18         0.49             1.3      0.033   \n",
              "\n",
              "      free sulfur dioxide  total sulfur dioxide  density    pH  sulphates  \\\n",
              "0                    15.0                  24.0  0.99438  3.40       0.82   \n",
              "1                    18.0                 141.0  0.99273  3.38       0.53   \n",
              "2                    32.0                 123.0  0.98913  3.41       0.33   \n",
              "3                    29.0                  91.0  0.99251  3.30       0.43   \n",
              "4                    10.0                 131.0  0.99050  2.97       0.28   \n",
              "...                   ...                   ...      ...   ...        ...   \n",
              "6492                 11.0                  22.0  1.00000  3.00       0.70   \n",
              "6493                 13.0                 136.0  0.99366  3.08       0.55   \n",
              "6494                 13.0                  54.0  0.99724  3.36       0.54   \n",
              "6495                 12.0                  26.0  0.99306  3.55       0.51   \n",
              "6496                 12.0                  72.0  0.99072  3.05       0.53   \n",
              "\n",
              "      alcohol  quality   type quality_label  \n",
              "0        11.2        6    red        medium  \n",
              "1        10.5        6  white        medium  \n",
              "2        13.7        7  white        medium  \n",
              "3         9.9        6  white        medium  \n",
              "4        10.8        5  white           low  \n",
              "...       ...      ...    ...           ...  \n",
              "6492      9.3        6    red        medium  \n",
              "6493      9.5        5  white           low  \n",
              "6494     10.1        5    red           low  \n",
              "6495     12.1        5    red           low  \n",
              "6496     11.3        7  white        medium  \n",
              "\n",
              "[6497 rows x 14 columns]"
            ],
            "text/html": [
              "\n",
              "  <div id=\"df-4f5245a6-70b1-45eb-9b1d-751e806f1077\">\n",
              "    <div class=\"colab-df-container\">\n",
              "      <div>\n",
              "<style scoped>\n",
              "    .dataframe tbody tr th:only-of-type {\n",
              "        vertical-align: middle;\n",
              "    }\n",
              "\n",
              "    .dataframe tbody tr th {\n",
              "        vertical-align: top;\n",
              "    }\n",
              "\n",
              "    .dataframe thead th {\n",
              "        text-align: right;\n",
              "    }\n",
              "</style>\n",
              "<table border=\"1\" class=\"dataframe\">\n",
              "  <thead>\n",
              "    <tr style=\"text-align: right;\">\n",
              "      <th></th>\n",
              "      <th>fixed acidity</th>\n",
              "      <th>volatile acidity</th>\n",
              "      <th>citric acid</th>\n",
              "      <th>residual sugar</th>\n",
              "      <th>chlorides</th>\n",
              "      <th>free sulfur dioxide</th>\n",
              "      <th>total sulfur dioxide</th>\n",
              "      <th>density</th>\n",
              "      <th>pH</th>\n",
              "      <th>sulphates</th>\n",
              "      <th>alcohol</th>\n",
              "      <th>quality</th>\n",
              "      <th>type</th>\n",
              "      <th>quality_label</th>\n",
              "    </tr>\n",
              "  </thead>\n",
              "  <tbody>\n",
              "    <tr>\n",
              "      <th>0</th>\n",
              "      <td>6.8</td>\n",
              "      <td>0.56</td>\n",
              "      <td>0.22</td>\n",
              "      <td>1.8</td>\n",
              "      <td>0.074</td>\n",
              "      <td>15.0</td>\n",
              "      <td>24.0</td>\n",
              "      <td>0.99438</td>\n",
              "      <td>3.40</td>\n",
              "      <td>0.82</td>\n",
              "      <td>11.2</td>\n",
              "      <td>6</td>\n",
              "      <td>red</td>\n",
              "      <td>medium</td>\n",
              "    </tr>\n",
              "    <tr>\n",
              "      <th>1</th>\n",
              "      <td>6.4</td>\n",
              "      <td>0.30</td>\n",
              "      <td>0.36</td>\n",
              "      <td>2.0</td>\n",
              "      <td>0.052</td>\n",
              "      <td>18.0</td>\n",
              "      <td>141.0</td>\n",
              "      <td>0.99273</td>\n",
              "      <td>3.38</td>\n",
              "      <td>0.53</td>\n",
              "      <td>10.5</td>\n",
              "      <td>6</td>\n",
              "      <td>white</td>\n",
              "      <td>medium</td>\n",
              "    </tr>\n",
              "    <tr>\n",
              "      <th>2</th>\n",
              "      <td>5.9</td>\n",
              "      <td>0.17</td>\n",
              "      <td>0.29</td>\n",
              "      <td>3.1</td>\n",
              "      <td>0.030</td>\n",
              "      <td>32.0</td>\n",
              "      <td>123.0</td>\n",
              "      <td>0.98913</td>\n",
              "      <td>3.41</td>\n",
              "      <td>0.33</td>\n",
              "      <td>13.7</td>\n",
              "      <td>7</td>\n",
              "      <td>white</td>\n",
              "      <td>medium</td>\n",
              "    </tr>\n",
              "    <tr>\n",
              "      <th>3</th>\n",
              "      <td>7.0</td>\n",
              "      <td>0.24</td>\n",
              "      <td>0.24</td>\n",
              "      <td>1.8</td>\n",
              "      <td>0.047</td>\n",
              "      <td>29.0</td>\n",
              "      <td>91.0</td>\n",
              "      <td>0.99251</td>\n",
              "      <td>3.30</td>\n",
              "      <td>0.43</td>\n",
              "      <td>9.9</td>\n",
              "      <td>6</td>\n",
              "      <td>white</td>\n",
              "      <td>medium</td>\n",
              "    </tr>\n",
              "    <tr>\n",
              "      <th>4</th>\n",
              "      <td>6.4</td>\n",
              "      <td>0.45</td>\n",
              "      <td>0.07</td>\n",
              "      <td>1.1</td>\n",
              "      <td>0.030</td>\n",
              "      <td>10.0</td>\n",
              "      <td>131.0</td>\n",
              "      <td>0.99050</td>\n",
              "      <td>2.97</td>\n",
              "      <td>0.28</td>\n",
              "      <td>10.8</td>\n",
              "      <td>5</td>\n",
              "      <td>white</td>\n",
              "      <td>low</td>\n",
              "    </tr>\n",
              "    <tr>\n",
              "      <th>...</th>\n",
              "      <td>...</td>\n",
              "      <td>...</td>\n",
              "      <td>...</td>\n",
              "      <td>...</td>\n",
              "      <td>...</td>\n",
              "      <td>...</td>\n",
              "      <td>...</td>\n",
              "      <td>...</td>\n",
              "      <td>...</td>\n",
              "      <td>...</td>\n",
              "      <td>...</td>\n",
              "      <td>...</td>\n",
              "      <td>...</td>\n",
              "      <td>...</td>\n",
              "    </tr>\n",
              "    <tr>\n",
              "      <th>6492</th>\n",
              "      <td>12.7</td>\n",
              "      <td>0.59</td>\n",
              "      <td>0.45</td>\n",
              "      <td>2.3</td>\n",
              "      <td>0.082</td>\n",
              "      <td>11.0</td>\n",
              "      <td>22.0</td>\n",
              "      <td>1.00000</td>\n",
              "      <td>3.00</td>\n",
              "      <td>0.70</td>\n",
              "      <td>9.3</td>\n",
              "      <td>6</td>\n",
              "      <td>red</td>\n",
              "      <td>medium</td>\n",
              "    </tr>\n",
              "    <tr>\n",
              "      <th>6493</th>\n",
              "      <td>8.0</td>\n",
              "      <td>0.25</td>\n",
              "      <td>0.35</td>\n",
              "      <td>1.1</td>\n",
              "      <td>0.054</td>\n",
              "      <td>13.0</td>\n",
              "      <td>136.0</td>\n",
              "      <td>0.99366</td>\n",
              "      <td>3.08</td>\n",
              "      <td>0.55</td>\n",
              "      <td>9.5</td>\n",
              "      <td>5</td>\n",
              "      <td>white</td>\n",
              "      <td>low</td>\n",
              "    </tr>\n",
              "    <tr>\n",
              "      <th>6494</th>\n",
              "      <td>8.3</td>\n",
              "      <td>0.85</td>\n",
              "      <td>0.14</td>\n",
              "      <td>2.5</td>\n",
              "      <td>0.093</td>\n",
              "      <td>13.0</td>\n",
              "      <td>54.0</td>\n",
              "      <td>0.99724</td>\n",
              "      <td>3.36</td>\n",
              "      <td>0.54</td>\n",
              "      <td>10.1</td>\n",
              "      <td>5</td>\n",
              "      <td>red</td>\n",
              "      <td>low</td>\n",
              "    </tr>\n",
              "    <tr>\n",
              "      <th>6495</th>\n",
              "      <td>6.3</td>\n",
              "      <td>0.60</td>\n",
              "      <td>0.10</td>\n",
              "      <td>1.6</td>\n",
              "      <td>0.048</td>\n",
              "      <td>12.0</td>\n",
              "      <td>26.0</td>\n",
              "      <td>0.99306</td>\n",
              "      <td>3.55</td>\n",
              "      <td>0.51</td>\n",
              "      <td>12.1</td>\n",
              "      <td>5</td>\n",
              "      <td>red</td>\n",
              "      <td>low</td>\n",
              "    </tr>\n",
              "    <tr>\n",
              "      <th>6496</th>\n",
              "      <td>7.1</td>\n",
              "      <td>0.18</td>\n",
              "      <td>0.49</td>\n",
              "      <td>1.3</td>\n",
              "      <td>0.033</td>\n",
              "      <td>12.0</td>\n",
              "      <td>72.0</td>\n",
              "      <td>0.99072</td>\n",
              "      <td>3.05</td>\n",
              "      <td>0.53</td>\n",
              "      <td>11.3</td>\n",
              "      <td>7</td>\n",
              "      <td>white</td>\n",
              "      <td>medium</td>\n",
              "    </tr>\n",
              "  </tbody>\n",
              "</table>\n",
              "<p>6497 rows × 14 columns</p>\n",
              "</div>\n",
              "      <button class=\"colab-df-convert\" onclick=\"convertToInteractive('df-4f5245a6-70b1-45eb-9b1d-751e806f1077')\"\n",
              "              title=\"Convert this dataframe to an interactive table.\"\n",
              "              style=\"display:none;\">\n",
              "        \n",
              "  <svg xmlns=\"http://www.w3.org/2000/svg\" height=\"24px\"viewBox=\"0 0 24 24\"\n",
              "       width=\"24px\">\n",
              "    <path d=\"M0 0h24v24H0V0z\" fill=\"none\"/>\n",
              "    <path d=\"M18.56 5.44l.94 2.06.94-2.06 2.06-.94-2.06-.94-.94-2.06-.94 2.06-2.06.94zm-11 1L8.5 8.5l.94-2.06 2.06-.94-2.06-.94L8.5 2.5l-.94 2.06-2.06.94zm10 10l.94 2.06.94-2.06 2.06-.94-2.06-.94-.94-2.06-.94 2.06-2.06.94z\"/><path d=\"M17.41 7.96l-1.37-1.37c-.4-.4-.92-.59-1.43-.59-.52 0-1.04.2-1.43.59L10.3 9.45l-7.72 7.72c-.78.78-.78 2.05 0 2.83L4 21.41c.39.39.9.59 1.41.59.51 0 1.02-.2 1.41-.59l7.78-7.78 2.81-2.81c.8-.78.8-2.07 0-2.86zM5.41 20L4 18.59l7.72-7.72 1.47 1.35L5.41 20z\"/>\n",
              "  </svg>\n",
              "      </button>\n",
              "      \n",
              "  <style>\n",
              "    .colab-df-container {\n",
              "      display:flex;\n",
              "      flex-wrap:wrap;\n",
              "      gap: 12px;\n",
              "    }\n",
              "\n",
              "    .colab-df-convert {\n",
              "      background-color: #E8F0FE;\n",
              "      border: none;\n",
              "      border-radius: 50%;\n",
              "      cursor: pointer;\n",
              "      display: none;\n",
              "      fill: #1967D2;\n",
              "      height: 32px;\n",
              "      padding: 0 0 0 0;\n",
              "      width: 32px;\n",
              "    }\n",
              "\n",
              "    .colab-df-convert:hover {\n",
              "      background-color: #E2EBFA;\n",
              "      box-shadow: 0px 1px 2px rgba(60, 64, 67, 0.3), 0px 1px 3px 1px rgba(60, 64, 67, 0.15);\n",
              "      fill: #174EA6;\n",
              "    }\n",
              "\n",
              "    [theme=dark] .colab-df-convert {\n",
              "      background-color: #3B4455;\n",
              "      fill: #D2E3FC;\n",
              "    }\n",
              "\n",
              "    [theme=dark] .colab-df-convert:hover {\n",
              "      background-color: #434B5C;\n",
              "      box-shadow: 0px 1px 3px 1px rgba(0, 0, 0, 0.15);\n",
              "      filter: drop-shadow(0px 1px 2px rgba(0, 0, 0, 0.3));\n",
              "      fill: #FFFFFF;\n",
              "    }\n",
              "  </style>\n",
              "\n",
              "      <script>\n",
              "        const buttonEl =\n",
              "          document.querySelector('#df-4f5245a6-70b1-45eb-9b1d-751e806f1077 button.colab-df-convert');\n",
              "        buttonEl.style.display =\n",
              "          google.colab.kernel.accessAllowed ? 'block' : 'none';\n",
              "\n",
              "        async function convertToInteractive(key) {\n",
              "          const element = document.querySelector('#df-4f5245a6-70b1-45eb-9b1d-751e806f1077');\n",
              "          const dataTable =\n",
              "            await google.colab.kernel.invokeFunction('convertToInteractive',\n",
              "                                                     [key], {});\n",
              "          if (!dataTable) return;\n",
              "\n",
              "          const docLinkHtml = 'Like what you see? Visit the ' +\n",
              "            '<a target=\"_blank\" href=https://colab.research.google.com/notebooks/data_table.ipynb>data table notebook</a>'\n",
              "            + ' to learn more about interactive tables.';\n",
              "          element.innerHTML = '';\n",
              "          dataTable['output_type'] = 'display_data';\n",
              "          await google.colab.output.renderOutput(dataTable, element);\n",
              "          const docLink = document.createElement('div');\n",
              "          docLink.innerHTML = docLinkHtml;\n",
              "          element.appendChild(docLink);\n",
              "        }\n",
              "      </script>\n",
              "    </div>\n",
              "  </div>\n",
              "  "
            ]
          },
          "metadata": {},
          "execution_count": 10
        }
      ]
    },
    {
      "cell_type": "markdown",
      "source": [
        "## Data Summary Statistics and Data Cleaning"
      ],
      "metadata": {
        "id": "aXoiNOlviiZL"
      }
    },
    {
      "cell_type": "code",
      "source": [
        "#null checks\n",
        "wine_data.apply(lambda x: x.isnull().sum())"
      ],
      "metadata": {
        "colab": {
          "base_uri": "https://localhost:8080/"
        },
        "id": "4AmTWNxmlGtD",
        "outputId": "f997ccd4-106f-40ff-bf4c-17a53aebcddc"
      },
      "execution_count": 11,
      "outputs": [
        {
          "output_type": "execute_result",
          "data": {
            "text/plain": [
              "fixed acidity           0\n",
              "volatile acidity        0\n",
              "citric acid             0\n",
              "residual sugar          0\n",
              "chlorides               0\n",
              "free sulfur dioxide     0\n",
              "total sulfur dioxide    0\n",
              "density                 0\n",
              "pH                      0\n",
              "sulphates               0\n",
              "alcohol                 0\n",
              "quality                 0\n",
              "type                    0\n",
              "quality_label           0\n",
              "dtype: int64"
            ]
          },
          "metadata": {},
          "execution_count": 11
        }
      ]
    },
    {
      "cell_type": "code",
      "source": [
        "wine_data.quality_label.value_counts()"
      ],
      "metadata": {
        "colab": {
          "base_uri": "https://localhost:8080/"
        },
        "id": "H2hYcqGriRxI",
        "outputId": "9c1bb183-112e-49e0-aa4d-f3830cc7e6bd"
      },
      "execution_count": 12,
      "outputs": [
        {
          "output_type": "execute_result",
          "data": {
            "text/plain": [
              "medium    3915\n",
              "low       2384\n",
              "high       198\n",
              "Name: quality_label, dtype: int64"
            ]
          },
          "metadata": {},
          "execution_count": 12
        }
      ]
    },
    {
      "cell_type": "code",
      "source": [
        "wine_data.dropna().quality_label.value_counts()"
      ],
      "metadata": {
        "colab": {
          "base_uri": "https://localhost:8080/"
        },
        "id": "e4mNdkiwi03y",
        "outputId": "a51e9ba4-0477-4ccf-e8ea-66961e904320"
      },
      "execution_count": 13,
      "outputs": [
        {
          "output_type": "execute_result",
          "data": {
            "text/plain": [
              "medium    3915\n",
              "low       2384\n",
              "high       198\n",
              "Name: quality_label, dtype: int64"
            ]
          },
          "metadata": {},
          "execution_count": 13
        }
      ]
    },
    {
      "cell_type": "markdown",
      "source": [
        "There are no null values -> we don't lose any data"
      ],
      "metadata": {
        "id": "J2AdcP-QjlLv"
      }
    },
    {
      "cell_type": "code",
      "source": [
        "#check data types\n",
        "wine_data.dtypes"
      ],
      "metadata": {
        "colab": {
          "base_uri": "https://localhost:8080/"
        },
        "id": "74TTqIa0lkAk",
        "outputId": "265cd73f-dbdf-49d8-801a-bc6987149862"
      },
      "execution_count": 14,
      "outputs": [
        {
          "output_type": "execute_result",
          "data": {
            "text/plain": [
              "fixed acidity           float64\n",
              "volatile acidity        float64\n",
              "citric acid             float64\n",
              "residual sugar          float64\n",
              "chlorides               float64\n",
              "free sulfur dioxide     float64\n",
              "total sulfur dioxide    float64\n",
              "density                 float64\n",
              "pH                      float64\n",
              "sulphates               float64\n",
              "alcohol                 float64\n",
              "quality                   int64\n",
              "type                     object\n",
              "quality_label            object\n",
              "dtype: object"
            ]
          },
          "metadata": {},
          "execution_count": 14
        }
      ]
    },
    {
      "cell_type": "markdown",
      "source": [
        "### Check the distribution of data between wine qualities and wine types"
      ],
      "metadata": {
        "id": "CKp9fRNAnJQa"
      }
    },
    {
      "cell_type": "code",
      "source": [
        "fig = plt.figure(figsize = (18, 4))\n",
        "title = fig.suptitle(\"Wine Type Vs Quality\", fontsize=14)\n",
        "fig.subplots_adjust(top=0.85, wspace=0.3)\n",
        "\n",
        "ax1 = fig.add_subplot(1,4, 1)\n",
        "ax1.set_title(\"Red Wine\")\n",
        "ax1.set_xlabel(\"Quality\")\n",
        "ax1.set_ylabel(\"Frequency\") \n",
        "rw_q = wine_data.quality[wine_data.type == 'red'].value_counts()\n",
        "rw_q = (list(rw_q.index), list(rw_q.values))\n",
        "ax1.set_ylim([0, 2500])\n",
        "ax1.tick_params(axis='both', which='major', labelsize=8.5)\n",
        "bar1 = ax1.bar(rw_q[0], rw_q[1], color='red', edgecolor='black', linewidth=1)\n",
        "\n",
        "\n",
        "ax2 = fig.add_subplot(1,4, 2)\n",
        "ax2.set_title(\"White Wine\")\n",
        "ax2.set_xlabel(\"Quality\")\n",
        "ax2.set_ylabel(\"Frequency\") \n",
        "ww_q = wine_data.quality[wine_data.type == 'white'].value_counts()\n",
        "ww_q = (list(ww_q.index), list(ww_q.values))\n",
        "ax2.set_ylim([0, 2500])\n",
        "ax2.tick_params(axis='both', which='major', labelsize=8.5)\n",
        "bar2 = ax2.bar(ww_q[0], ww_q[1], color='white', edgecolor='black', linewidth=1)\n",
        "\n",
        "ax3 = fig.add_subplot(1,4, 3)\n",
        "ax3.set_title(\"Red Wine\")\n",
        "ax3.set_xlabel(\"Quality Class\")\n",
        "ax3.set_ylabel(\"Frequency\") \n",
        "rw_q = wine_data.quality_label[wine_data.type == 'red'].value_counts()\n",
        "rw_q = (list(rw_q.index), list(rw_q.values))\n",
        "ax3.set_ylim([0, 3200])\n",
        "bar3 = ax3.bar(list(range(len(rw_q[0]))), rw_q[1], color='red', edgecolor='black', linewidth=1, tick_label =rw_q[0])\n",
        "\n",
        "ax4 = fig.add_subplot(1,4, 4)\n",
        "ax4.set_title(\"White Wine\")\n",
        "ax4.set_xlabel(\"Quality Class\")\n",
        "ax4.set_ylabel(\"Frequency\") \n",
        "ww_q = wine_data.quality_label[wine_data.type == 'white'].value_counts()\n",
        "ww_q = (list(ww_q.index), list(ww_q.values))\n",
        "ax4.set_ylim([0, 3200])\n",
        "bar4 = ax4.bar(list(range(len(ww_q[0]))), ww_q[1], color='white', edgecolor='black', linewidth=1, tick_label =ww_q[0])"
      ],
      "metadata": {
        "colab": {
          "base_uri": "https://localhost:8080/",
          "height": 327
        },
        "id": "zSMQ4HwYjXDD",
        "outputId": "5f0e51e7-6678-414e-bf03-2363eb3c64a5"
      },
      "execution_count": 15,
      "outputs": [
        {
          "output_type": "display_data",
          "data": {
            "text/plain": [
              "<Figure size 1296x288 with 4 Axes>"
            ],
            "image/png": "[encoded data removed]"
          },
          "metadata": {
            "needs_background": "light"
          }
        }
      ]
    },
    {
      "cell_type": "markdown",
      "source": [
        "There is an imbalance between classes of quality, as we can see for example \"high\" quality wines are very few in comparison to medium and low quality wines."
      ],
      "metadata": {
        "id": "5m_rIcCmnS3e"
      }
    },
    {
      "cell_type": "markdown",
      "source": [
        "### Descriptive statistics"
      ],
      "metadata": {
        "id": "i_cgDZoyoD_l"
      }
    },
    {
      "cell_type": "markdown",
      "source": [
        "By type:"
      ],
      "metadata": {
        "id": "ydDe-q-YobAn"
      }
    },
    {
      "cell_type": "code",
      "source": [
        "subset_attributes = wine_data.columns\n",
        "rs = round(wine_data.loc[wine_data.type == 'red', subset_attributes].describe(),2)\n",
        "ws = round(wine_data.loc[wine_data.type == 'white', subset_attributes].describe(),2)\n",
        "pd.concat([rs, ws], axis=0, keys=['Red Wine Statistics', 'White Wine Statistics']).T"
      ],
      "metadata": {
        "colab": {
          "base_uri": "https://localhost:8080/",
          "height": 457
        },
        "id": "MmRfLCVYjpRW",
        "outputId": "01047dcd-95e0-4895-d982-8a43a859d6f5"
      },
      "execution_count": 16,
      "outputs": [
        {
          "output_type": "execute_result",
          "data": {
            "text/plain": [
              "                     Red Wine Statistics                                    \\\n",
              "                                   count   mean    std   min    25%    50%   \n",
              "fixed acidity                     1599.0   8.32   1.74  4.60   7.10   7.90   \n",
              "volatile acidity                  1599.0   0.53   0.18  0.12   0.39   0.52   \n",
              "citric acid                       1599.0   0.27   0.19  0.00   0.09   0.26   \n",
              "residual sugar                    1599.0   2.54   1.41  0.90   1.90   2.20   \n",
              "chlorides                         1599.0   0.09   0.05  0.01   0.07   0.08   \n",
              "free sulfur dioxide               1599.0  15.87  10.46  1.00   7.00  14.00   \n",
              "total sulfur dioxide              1599.0  46.47  32.90  6.00  22.00  38.00   \n",
              "density                           1599.0   1.00   0.00  0.99   1.00   1.00   \n",
              "pH                                1599.0   3.31   0.15  2.74   3.21   3.31   \n",
              "sulphates                         1599.0   0.66   0.17  0.33   0.55   0.62   \n",
              "alcohol                           1599.0  10.42   1.07  8.40   9.50  10.20   \n",
              "quality                           1599.0   5.64   0.81  3.00   5.00   6.00   \n",
              "\n",
              "                                    White Wine Statistics                 \\\n",
              "                        75%     max                 count    mean    std   \n",
              "fixed acidity          9.20   15.90                4898.0    6.85   0.84   \n",
              "volatile acidity       0.64    1.58                4898.0    0.28   0.10   \n",
              "citric acid            0.42    1.00                4898.0    0.33   0.12   \n",
              "residual sugar         2.60   15.50                4898.0    6.39   5.07   \n",
              "chlorides              0.09    0.61                4898.0    0.05   0.02   \n",
              "free sulfur dioxide   21.00   72.00                4898.0   35.31  17.01   \n",
              "total sulfur dioxide  62.00  289.00                4898.0  138.36  42.50   \n",
              "density                1.00    1.00                4898.0    0.99   0.00   \n",
              "pH                     3.40    4.01                4898.0    3.19   0.15   \n",
              "sulphates              0.73    2.00                4898.0    0.49   0.11   \n",
              "alcohol               11.10   14.90                4898.0   10.51   1.23   \n",
              "quality                6.00    8.00                4898.0    5.88   0.89   \n",
              "\n",
              "                                                            \n",
              "                       min     25%     50%     75%     max  \n",
              "fixed acidity         3.80    6.30    6.80    7.30   14.20  \n",
              "volatile acidity      0.08    0.21    0.26    0.32    1.10  \n",
              "citric acid           0.00    0.27    0.32    0.39    1.66  \n",
              "residual sugar        0.60    1.70    5.20    9.90   65.80  \n",
              "chlorides             0.01    0.04    0.04    0.05    0.35  \n",
              "free sulfur dioxide   2.00   23.00   34.00   46.00  289.00  \n",
              "total sulfur dioxide  9.00  108.00  134.00  167.00  440.00  \n",
              "density               0.99    0.99    0.99    1.00    1.04  \n",
              "pH                    2.72    3.09    3.18    3.28    3.82  \n",
              "sulphates             0.22    0.41    0.47    0.55    1.08  \n",
              "alcohol               8.00    9.50   10.40   11.40   14.20  \n",
              "quality               3.00    5.00    6.00    6.00    9.00  "
            ],
            "text/html": [
              "\n",
              "  <div id=\"df-ff0e38ac-97e1-4946-8a75-dad9d75cca3d\">\n",
              "    <div class=\"colab-df-container\">\n",
              "      <div>\n",
              "<style scoped>\n",
              "    .dataframe tbody tr th:only-of-type {\n",
              "        vertical-align: middle;\n",
              "    }\n",
              "\n",
              "    .dataframe tbody tr th {\n",
              "        vertical-align: top;\n",
              "    }\n",
              "\n",
              "    .dataframe thead tr th {\n",
              "        text-align: left;\n",
              "    }\n",
              "</style>\n",
              "<table border=\"1\" class=\"dataframe\">\n",
              "  <thead>\n",
              "    <tr>\n",
              "      <th></th>\n",
              "      <th colspan=\"8\" halign=\"left\">Red Wine Statistics</th>\n",
              "      <th colspan=\"8\" halign=\"left\">White Wine Statistics</th>\n",
              "    </tr>\n",
              "    <tr>\n",
              "      <th></th>\n",
              "      <th>count</th>\n",
              "      <th>mean</th>\n",
              "      <th>std</th>\n",
              "      <th>min</th>\n",
              "      <th>25%</th>\n",
              "      <th>50%</th>\n",
              "      <th>75%</th>\n",
              "      <th>max</th>\n",
              "      <th>count</th>\n",
              "      <th>mean</th>\n",
              "      <th>std</th>\n",
              "      <th>min</th>\n",
              "      <th>25%</th>\n",
              "      <th>50%</th>\n",
              "      <th>75%</th>\n",
              "      <th>max</th>\n",
              "    </tr>\n",
              "  </thead>\n",
              "  <tbody>\n",
              "    <tr>\n",
              "      <th>fixed acidity</th>\n",
              "      <td>1599.0</td>\n",
              "      <td>8.32</td>\n",
              "      <td>1.74</td>\n",
              "      <td>4.60</td>\n",
              "      <td>7.10</td>\n",
              "      <td>7.90</td>\n",
              "      <td>9.20</td>\n",
              "      <td>15.90</td>\n",
              "      <td>4898.0</td>\n",
              "      <td>6.85</td>\n",
              "      <td>0.84</td>\n",
              "      <td>3.80</td>\n",
              "      <td>6.30</td>\n",
              "      <td>6.80</td>\n",
              "      <td>7.30</td>\n",
              "      <td>14.20</td>\n",
              "    </tr>\n",
              "    <tr>\n",
              "      <th>volatile acidity</th>\n",
              "      <td>1599.0</td>\n",
              "      <td>0.53</td>\n",
              "      <td>0.18</td>\n",
              "      <td>0.12</td>\n",
              "      <td>0.39</td>\n",
              "      <td>0.52</td>\n",
              "      <td>0.64</td>\n",
              "      <td>1.58</td>\n",
              "      <td>4898.0</td>\n",
              "      <td>0.28</td>\n",
              "      <td>0.10</td>\n",
              "      <td>0.08</td>\n",
              "      <td>0.21</td>\n",
              "      <td>0.26</td>\n",
              "      <td>0.32</td>\n",
              "      <td>1.10</td>\n",
              "    </tr>\n",
              "    <tr>\n",
              "      <th>citric acid</th>\n",
              "      <td>1599.0</td>\n",
              "      <td>0.27</td>\n",
              "      <td>0.19</td>\n",
              "      <td>0.00</td>\n",
              "      <td>0.09</td>\n",
              "      <td>0.26</td>\n",
              "      <td>0.42</td>\n",
              "      <td>1.00</td>\n",
              "      <td>4898.0</td>\n",
              "      <td>0.33</td>\n",
              "      <td>0.12</td>\n",
              "      <td>0.00</td>\n",
              "      <td>0.27</td>\n",
              "      <td>0.32</td>\n",
              "      <td>0.39</td>\n",
              "      <td>1.66</td>\n",
              "    </tr>\n",
              "    <tr>\n",
              "      <th>residual sugar</th>\n",
              "      <td>1599.0</td>\n",
              "      <td>2.54</td>\n",
              "      <td>1.41</td>\n",
              "      <td>0.90</td>\n",
              "      <td>1.90</td>\n",
              "      <td>2.20</td>\n",
              "      <td>2.60</td>\n",
              "      <td>15.50</td>\n",
              "      <td>4898.0</td>\n",
              "      <td>6.39</td>\n",
              "      <td>5.07</td>\n",
              "      <td>0.60</td>\n",
              "      <td>1.70</td>\n",
              "      <td>5.20</td>\n",
              "      <td>9.90</td>\n",
              "      <td>65.80</td>\n",
              "    </tr>\n",
              "    <tr>\n",
              "      <th>chlorides</th>\n",
              "      <td>1599.0</td>\n",
              "      <td>0.09</td>\n",
              "      <td>0.05</td>\n",
              "      <td>0.01</td>\n",
              "      <td>0.07</td>\n",
              "      <td>0.08</td>\n",
              "      <td>0.09</td>\n",
              "      <td>0.61</td>\n",
              "      <td>4898.0</td>\n",
              "      <td>0.05</td>\n",
              "      <td>0.02</td>\n",
              "      <td>0.01</td>\n",
              "      <td>0.04</td>\n",
              "      <td>0.04</td>\n",
              "      <td>0.05</td>\n",
              "      <td>0.35</td>\n",
              "    </tr>\n",
              "    <tr>\n",
              "      <th>free sulfur dioxide</th>\n",
              "      <td>1599.0</td>\n",
              "      <td>15.87</td>\n",
              "      <td>10.46</td>\n",
              "      <td>1.00</td>\n",
              "      <td>7.00</td>\n",
              "      <td>14.00</td>\n",
              "      <td>21.00</td>\n",
              "      <td>72.00</td>\n",
              "      <td>4898.0</td>\n",
              "      <td>35.31</td>\n",
              "      <td>17.01</td>\n",
              "      <td>2.00</td>\n",
              "      <td>23.00</td>\n",
              "      <td>34.00</td>\n",
              "      <td>46.00</td>\n",
              "      <td>289.00</td>\n",
              "    </tr>\n",
              "    <tr>\n",
              "      <th>total sulfur dioxide</th>\n",
              "      <td>1599.0</td>\n",
              "      <td>46.47</td>\n",
              "      <td>32.90</td>\n",
              "      <td>6.00</td>\n",
              "      <td>22.00</td>\n",
              "      <td>38.00</td>\n",
              "      <td>62.00</td>\n",
              "      <td>289.00</td>\n",
              "      <td>4898.0</td>\n",
              "      <td>138.36</td>\n",
              "      <td>42.50</td>\n",
              "      <td>9.00</td>\n",
              "      <td>108.00</td>\n",
              "      <td>134.00</td>\n",
              "      <td>167.00</td>\n",
              "      <td>440.00</td>\n",
              "    </tr>\n",
              "    <tr>\n",
              "      <th>density</th>\n",
              "      <td>1599.0</td>\n",
              "      <td>1.00</td>\n",
              "      <td>0.00</td>\n",
              "      <td>0.99</td>\n",
              "      <td>1.00</td>\n",
              "      <td>1.00</td>\n",
              "      <td>1.00</td>\n",
              "      <td>1.00</td>\n",
              "      <td>4898.0</td>\n",
              "      <td>0.99</td>\n",
              "      <td>0.00</td>\n",
              "      <td>0.99</td>\n",
              "      <td>0.99</td>\n",
              "      <td>0.99</td>\n",
              "      <td>1.00</td>\n",
              "      <td>1.04</td>\n",
              "    </tr>\n",
              "    <tr>\n",
              "      <th>pH</th>\n",
              "      <td>1599.0</td>\n",
              "      <td>3.31</td>\n",
              "      <td>0.15</td>\n",
              "      <td>2.74</td>\n",
              "      <td>3.21</td>\n",
              "      <td>3.31</td>\n",
              "      <td>3.40</td>\n",
              "      <td>4.01</td>\n",
              "      <td>4898.0</td>\n",
              "      <td>3.19</td>\n",
              "      <td>0.15</td>\n",
              "      <td>2.72</td>\n",
              "      <td>3.09</td>\n",
              "      <td>3.18</td>\n",
              "      <td>3.28</td>\n",
              "      <td>3.82</td>\n",
              "    </tr>\n",
              "    <tr>\n",
              "      <th>sulphates</th>\n",
              "      <td>1599.0</td>\n",
              "      <td>0.66</td>\n",
              "      <td>0.17</td>\n",
              "      <td>0.33</td>\n",
              "      <td>0.55</td>\n",
              "      <td>0.62</td>\n",
              "      <td>0.73</td>\n",
              "      <td>2.00</td>\n",
              "      <td>4898.0</td>\n",
              "      <td>0.49</td>\n",
              "      <td>0.11</td>\n",
              "      <td>0.22</td>\n",
              "      <td>0.41</td>\n",
              "      <td>0.47</td>\n",
              "      <td>0.55</td>\n",
              "      <td>1.08</td>\n",
              "    </tr>\n",
              "    <tr>\n",
              "      <th>alcohol</th>\n",
              "      <td>1599.0</td>\n",
              "      <td>10.42</td>\n",
              "      <td>1.07</td>\n",
              "      <td>8.40</td>\n",
              "      <td>9.50</td>\n",
              "      <td>10.20</td>\n",
              "      <td>11.10</td>\n",
              "      <td>14.90</td>\n",
              "      <td>4898.0</td>\n",
              "      <td>10.51</td>\n",
              "      <td>1.23</td>\n",
              "      <td>8.00</td>\n",
              "      <td>9.50</td>\n",
              "      <td>10.40</td>\n",
              "      <td>11.40</td>\n",
              "      <td>14.20</td>\n",
              "    </tr>\n",
              "    <tr>\n",
              "      <th>quality</th>\n",
              "      <td>1599.0</td>\n",
              "      <td>5.64</td>\n",
              "      <td>0.81</td>\n",
              "      <td>3.00</td>\n",
              "      <td>5.00</td>\n",
              "      <td>6.00</td>\n",
              "      <td>6.00</td>\n",
              "      <td>8.00</td>\n",
              "      <td>4898.0</td>\n",
              "      <td>5.88</td>\n",
              "      <td>0.89</td>\n",
              "      <td>3.00</td>\n",
              "      <td>5.00</td>\n",
              "      <td>6.00</td>\n",
              "      <td>6.00</td>\n",
              "      <td>9.00</td>\n",
              "    </tr>\n",
              "  </tbody>\n",
              "</table>\n",
              "</div>\n",
              "      <button class=\"colab-df-convert\" onclick=\"convertToInteractive('df-ff0e38ac-97e1-4946-8a75-dad9d75cca3d')\"\n",
              "              title=\"Convert this dataframe to an interactive table.\"\n",
              "              style=\"display:none;\">\n",
              "        \n",
              "  <svg xmlns=\"http://www.w3.org/2000/svg\" height=\"24px\"viewBox=\"0 0 24 24\"\n",
              "       width=\"24px\">\n",
              "    <path d=\"M0 0h24v24H0V0z\" fill=\"none\"/>\n",
              "    <path d=\"M18.56 5.44l.94 2.06.94-2.06 2.06-.94-2.06-.94-.94-2.06-.94 2.06-2.06.94zm-11 1L8.5 8.5l.94-2.06 2.06-.94-2.06-.94L8.5 2.5l-.94 2.06-2.06.94zm10 10l.94 2.06.94-2.06 2.06-.94-2.06-.94-.94-2.06-.94 2.06-2.06.94z\"/><path d=\"M17.41 7.96l-1.37-1.37c-.4-.4-.92-.59-1.43-.59-.52 0-1.04.2-1.43.59L10.3 9.45l-7.72 7.72c-.78.78-.78 2.05 0 2.83L4 21.41c.39.39.9.59 1.41.59.51 0 1.02-.2 1.41-.59l7.78-7.78 2.81-2.81c.8-.78.8-2.07 0-2.86zM5.41 20L4 18.59l7.72-7.72 1.47 1.35L5.41 20z\"/>\n",
              "  </svg>\n",
              "      </button>\n",
              "      \n",
              "  <style>\n",
              "    .colab-df-container {\n",
              "      display:flex;\n",
              "      flex-wrap:wrap;\n",
              "      gap: 12px;\n",
              "    }\n",
              "\n",
              "    .colab-df-convert {\n",
              "      background-color: #E8F0FE;\n",
              "      border: none;\n",
              "      border-radius: 50%;\n",
              "      cursor: pointer;\n",
              "      display: none;\n",
              "      fill: #1967D2;\n",
              "      height: 32px;\n",
              "      padding: 0 0 0 0;\n",
              "      width: 32px;\n",
              "    }\n",
              "\n",
              "    .colab-df-convert:hover {\n",
              "      background-color: #E2EBFA;\n",
              "      box-shadow: 0px 1px 2px rgba(60, 64, 67, 0.3), 0px 1px 3px 1px rgba(60, 64, 67, 0.15);\n",
              "      fill: #174EA6;\n",
              "    }\n",
              "\n",
              "    [theme=dark] .colab-df-convert {\n",
              "      background-color: #3B4455;\n",
              "      fill: #D2E3FC;\n",
              "    }\n",
              "\n",
              "    [theme=dark] .colab-df-convert:hover {\n",
              "      background-color: #434B5C;\n",
              "      box-shadow: 0px 1px 3px 1px rgba(0, 0, 0, 0.15);\n",
              "      filter: drop-shadow(0px 1px 2px rgba(0, 0, 0, 0.3));\n",
              "      fill: #FFFFFF;\n",
              "    }\n",
              "  </style>\n",
              "\n",
              "      <script>\n",
              "        const buttonEl =\n",
              "          document.querySelector('#df-ff0e38ac-97e1-4946-8a75-dad9d75cca3d button.colab-df-convert');\n",
              "        buttonEl.style.display =\n",
              "          google.colab.kernel.accessAllowed ? 'block' : 'none';\n",
              "\n",
              "        async function convertToInteractive(key) {\n",
              "          const element = document.querySelector('#df-ff0e38ac-97e1-4946-8a75-dad9d75cca3d');\n",
              "          const dataTable =\n",
              "            await google.colab.kernel.invokeFunction('convertToInteractive',\n",
              "                                                     [key], {});\n",
              "          if (!dataTable) return;\n",
              "\n",
              "          const docLinkHtml = 'Like what you see? Visit the ' +\n",
              "            '<a target=\"_blank\" href=https://colab.research.google.com/notebooks/data_table.ipynb>data table notebook</a>'\n",
              "            + ' to learn more about interactive tables.';\n",
              "          element.innerHTML = '';\n",
              "          dataTable['output_type'] = 'display_data';\n",
              "          await google.colab.output.renderOutput(dataTable, element);\n",
              "          const docLink = document.createElement('div');\n",
              "          docLink.innerHTML = docLinkHtml;\n",
              "          element.appendChild(docLink);\n",
              "        }\n",
              "      </script>\n",
              "    </div>\n",
              "  </div>\n",
              "  "
            ]
          },
          "metadata": {},
          "execution_count": 16
        }
      ]
    },
    {
      "cell_type": "markdown",
      "source": [
        "Highlights from descriptive statisct of quality perspective above:\n",
        "\n",
        "*   It is interesting how alcohol does not give us much variation to distinguish whether the vine is white or red, but it makes a lot of difference in quality. Note that the higher the quality the higher the average alcohol concentration, increased by about 1% at each level. Although lower quality wines have the lowest standard deviation.\n",
        "*   The chlorides and volatile acidity are less present and presented smaller standard deviation in wines of higher quality.\n",
        "*  The free sulfur dioxide is higher with higher quality, but their standard deviation decrease with the increase the quality.\n",
        "* Higher quality has less fixed acidity, but the standard deviation is slightly higher in mean quality\n",
        "\n",
        "\n"
      ],
      "metadata": {
        "id": "PVdgzSg6ot5j"
      }
    },
    {
      "cell_type": "markdown",
      "source": [
        "By quality:"
      ],
      "metadata": {
        "id": "J5UKQ6W4oc_g"
      }
    },
    {
      "cell_type": "code",
      "source": [
        "ls = round(wine_data[wine_data['quality_label'] == 'low'][subset_attributes].describe(),2)\n",
        "ms = round(wine_data[wine_data['quality_label'] == 'medium'][subset_attributes].describe(),2)\n",
        "hs = round(wine_data[wine_data['quality_label'] == 'high'][subset_attributes].describe(),2)\n",
        "pd.concat([ls, ms, hs], axis=0, keys=['Low Quality Wine', 'Medium Quality Wine', 'High Quality Wine']).T"
      ],
      "metadata": {
        "colab": {
          "base_uri": "https://localhost:8080/",
          "height": 689
        },
        "id": "55f5y8ZyoNdU",
        "outputId": "92130868-592c-4412-e598-2316c1e9b375"
      },
      "execution_count": 17,
      "outputs": [
        {
          "output_type": "execute_result",
          "data": {
            "text/plain": [
              "                     Low Quality Wine                                      \\\n",
              "                                count    mean    std   min    25%     50%   \n",
              "fixed acidity                  2384.0    7.33   1.27  4.20   6.50    7.10   \n",
              "volatile acidity               2384.0    0.40   0.19  0.10   0.26    0.34   \n",
              "citric acid                    2384.0    0.30   0.16  0.00   0.21    0.30   \n",
              "residual sugar                 2384.0    5.65   4.92  0.60   1.80    2.90   \n",
              "chlorides                      2384.0    0.06   0.04  0.01   0.04    0.05   \n",
              "free sulfur dioxide            2384.0   29.48  19.84  2.00  14.00   26.00   \n",
              "total sulfur dioxide           2384.0  119.28  61.89  6.00  68.00  124.00   \n",
              "density                        2384.0    1.00   0.00  0.99   0.99    1.00   \n",
              "pH                             2384.0    3.21   0.16  2.74   3.11    3.20   \n",
              "sulphates                      2384.0    0.52   0.14  0.25   0.44    0.50   \n",
              "alcohol                        2384.0    9.87   0.84  8.00   9.30    9.60   \n",
              "quality                        2384.0    4.88   0.36  3.00   5.00    5.00   \n",
              "\n",
              "                                     Medium Quality Wine          ...          \\\n",
              "                         75%     max               count    mean  ...     75%   \n",
              "fixed acidity           7.80   15.90              3915.0    7.16  ...    7.60   \n",
              "volatile acidity        0.50    1.58              3915.0    0.31  ...    0.36   \n",
              "citric acid             0.40    1.00              3915.0    0.33  ...    0.39   \n",
              "residual sugar          8.52   23.50              3915.0    5.32  ...    7.90   \n",
              "chlorides               0.08    0.61              3915.0    0.05  ...    0.06   \n",
              "free sulfur dioxide    42.00  289.00              3915.0   30.96  ...   41.00   \n",
              "total sulfur dioxide  167.00  440.00              3915.0  113.51  ...  150.00   \n",
              "density                 1.00    1.00              3915.0    0.99  ...    1.00   \n",
              "pH                      3.31    3.90              3915.0    3.22  ...    3.33   \n",
              "sulphates               0.58    2.00              3915.0    0.54  ...    0.61   \n",
              "alcohol                10.40   14.90              3915.0   10.81  ...   11.70   \n",
              "quality                 5.00    5.00              3915.0    6.28  ...    7.00   \n",
              "\n",
              "                             High Quality Wine                               \\\n",
              "                         max             count    mean    std    min    25%   \n",
              "fixed acidity          15.60             198.0    6.85   1.14   3.90   6.20   \n",
              "volatile acidity        1.04             198.0    0.29   0.12   0.12   0.21   \n",
              "citric acid             1.66             198.0    0.33   0.10   0.03   0.28   \n",
              "residual sugar         65.80             198.0    5.35   4.16   0.80   2.00   \n",
              "chlorides               0.42             198.0    0.04   0.02   0.01   0.03   \n",
              "free sulfur dioxide   112.00             198.0   34.51  17.08   3.00  24.00   \n",
              "total sulfur dioxide  294.00             198.0  117.48  41.69  12.00  96.00   \n",
              "density                 1.04             198.0    0.99   0.00   0.99   0.99   \n",
              "pH                      4.01             198.0    3.23   0.16   2.88   3.13   \n",
              "sulphates               1.95             198.0    0.51   0.16   0.25   0.38   \n",
              "alcohol                14.20             198.0   11.69   1.27   8.50  11.00   \n",
              "quality                 7.00             198.0    8.03   0.16   8.00   8.00   \n",
              "\n",
              "                                              \n",
              "                         50%     75%     max  \n",
              "fixed acidity           6.80    7.30   12.60  \n",
              "volatile acidity        0.28    0.35    0.85  \n",
              "citric acid             0.32    0.37    0.74  \n",
              "residual sugar          4.05    7.57   14.80  \n",
              "chlorides               0.04    0.04    0.12  \n",
              "free sulfur dioxide    34.00   43.00  105.00  \n",
              "total sulfur dioxide  118.50  145.00  212.50  \n",
              "density                 0.99    0.99    1.00  \n",
              "pH                      3.23    3.33    3.72  \n",
              "sulphates               0.48    0.60    1.10  \n",
              "alcohol                12.00   12.60   14.00  \n",
              "quality                 8.00    8.00    9.00  \n",
              "\n",
              "[12 rows x 24 columns]"
            ],
            "text/html": [
              "\n",
              "  <div id=\"df-75a4131a-54ec-4c9b-9a1b-5270dda8a7e0\">\n",
              "    <div class=\"colab-df-container\">\n",
              "      <div>\n",
              "<style scoped>\n",
              "    .dataframe tbody tr th:only-of-type {\n",
              "        vertical-align: middle;\n",
              "    }\n",
              "\n",
              "    .dataframe tbody tr th {\n",
              "        vertical-align: top;\n",
              "    }\n",
              "\n",
              "    .dataframe thead tr th {\n",
              "        text-align: left;\n",
              "    }\n",
              "</style>\n",
              "<table border=\"1\" class=\"dataframe\">\n",
              "  <thead>\n",
              "    <tr>\n",
              "      <th></th>\n",
              "      <th colspan=\"8\" halign=\"left\">Low Quality Wine</th>\n",
              "      <th colspan=\"5\" halign=\"left\">Medium Quality Wine</th>\n",
              "      <th colspan=\"8\" halign=\"left\">High Quality Wine</th>\n",
              "    </tr>\n",
              "    <tr>\n",
              "      <th></th>\n",
              "      <th>count</th>\n",
              "      <th>mean</th>\n",
              "      <th>std</th>\n",
              "      <th>min</th>\n",
              "      <th>25%</th>\n",
              "      <th>50%</th>\n",
              "      <th>75%</th>\n",
              "      <th>max</th>\n",
              "      <th>count</th>\n",
              "      <th>mean</th>\n",
              "      <th>...</th>\n",
              "      <th>75%</th>\n",
              "      <th>max</th>\n",
              "      <th>count</th>\n",
              "      <th>mean</th>\n",
              "      <th>std</th>\n",
              "      <th>min</th>\n",
              "      <th>25%</th>\n",
              "      <th>50%</th>\n",
              "      <th>75%</th>\n",
              "      <th>max</th>\n",
              "    </tr>\n",
              "  </thead>\n",
              "  <tbody>\n",
              "    <tr>\n",
              "      <th>fixed acidity</th>\n",
              "      <td>2384.0</td>\n",
              "      <td>7.33</td>\n",
              "      <td>1.27</td>\n",
              "      <td>4.20</td>\n",
              "      <td>6.50</td>\n",
              "      <td>7.10</td>\n",
              "      <td>7.80</td>\n",
              "      <td>15.90</td>\n",
              "      <td>3915.0</td>\n",
              "      <td>7.16</td>\n",
              "      <td>...</td>\n",
              "      <td>7.60</td>\n",
              "      <td>15.60</td>\n",
              "      <td>198.0</td>\n",
              "      <td>6.85</td>\n",
              "      <td>1.14</td>\n",
              "      <td>3.90</td>\n",
              "      <td>6.20</td>\n",
              "      <td>6.80</td>\n",
              "      <td>7.30</td>\n",
              "      <td>12.60</td>\n",
              "    </tr>\n",
              "    <tr>\n",
              "      <th>volatile acidity</th>\n",
              "      <td>2384.0</td>\n",
              "      <td>0.40</td>\n",
              "      <td>0.19</td>\n",
              "      <td>0.10</td>\n",
              "      <td>0.26</td>\n",
              "      <td>0.34</td>\n",
              "      <td>0.50</td>\n",
              "      <td>1.58</td>\n",
              "      <td>3915.0</td>\n",
              "      <td>0.31</td>\n",
              "      <td>...</td>\n",
              "      <td>0.36</td>\n",
              "      <td>1.04</td>\n",
              "      <td>198.0</td>\n",
              "      <td>0.29</td>\n",
              "      <td>0.12</td>\n",
              "      <td>0.12</td>\n",
              "      <td>0.21</td>\n",
              "      <td>0.28</td>\n",
              "      <td>0.35</td>\n",
              "      <td>0.85</td>\n",
              "    </tr>\n",
              "    <tr>\n",
              "      <th>citric acid</th>\n",
              "      <td>2384.0</td>\n",
              "      <td>0.30</td>\n",
              "      <td>0.16</td>\n",
              "      <td>0.00</td>\n",
              "      <td>0.21</td>\n",
              "      <td>0.30</td>\n",
              "      <td>0.40</td>\n",
              "      <td>1.00</td>\n",
              "      <td>3915.0</td>\n",
              "      <td>0.33</td>\n",
              "      <td>...</td>\n",
              "      <td>0.39</td>\n",
              "      <td>1.66</td>\n",
              "      <td>198.0</td>\n",
              "      <td>0.33</td>\n",
              "      <td>0.10</td>\n",
              "      <td>0.03</td>\n",
              "      <td>0.28</td>\n",
              "      <td>0.32</td>\n",
              "      <td>0.37</td>\n",
              "      <td>0.74</td>\n",
              "    </tr>\n",
              "    <tr>\n",
              "      <th>residual sugar</th>\n",
              "      <td>2384.0</td>\n",
              "      <td>5.65</td>\n",
              "      <td>4.92</td>\n",
              "      <td>0.60</td>\n",
              "      <td>1.80</td>\n",
              "      <td>2.90</td>\n",
              "      <td>8.52</td>\n",
              "      <td>23.50</td>\n",
              "      <td>3915.0</td>\n",
              "      <td>5.32</td>\n",
              "      <td>...</td>\n",
              "      <td>7.90</td>\n",
              "      <td>65.80</td>\n",
              "      <td>198.0</td>\n",
              "      <td>5.35</td>\n",
              "      <td>4.16</td>\n",
              "      <td>0.80</td>\n",
              "      <td>2.00</td>\n",
              "      <td>4.05</td>\n",
              "      <td>7.57</td>\n",
              "      <td>14.80</td>\n",
              "    </tr>\n",
              "    <tr>\n",
              "      <th>chlorides</th>\n",
              "      <td>2384.0</td>\n",
              "      <td>0.06</td>\n",
              "      <td>0.04</td>\n",
              "      <td>0.01</td>\n",
              "      <td>0.04</td>\n",
              "      <td>0.05</td>\n",
              "      <td>0.08</td>\n",
              "      <td>0.61</td>\n",
              "      <td>3915.0</td>\n",
              "      <td>0.05</td>\n",
              "      <td>...</td>\n",
              "      <td>0.06</td>\n",
              "      <td>0.42</td>\n",
              "      <td>198.0</td>\n",
              "      <td>0.04</td>\n",
              "      <td>0.02</td>\n",
              "      <td>0.01</td>\n",
              "      <td>0.03</td>\n",
              "      <td>0.04</td>\n",
              "      <td>0.04</td>\n",
              "      <td>0.12</td>\n",
              "    </tr>\n",
              "    <tr>\n",
              "      <th>free sulfur dioxide</th>\n",
              "      <td>2384.0</td>\n",
              "      <td>29.48</td>\n",
              "      <td>19.84</td>\n",
              "      <td>2.00</td>\n",
              "      <td>14.00</td>\n",
              "      <td>26.00</td>\n",
              "      <td>42.00</td>\n",
              "      <td>289.00</td>\n",
              "      <td>3915.0</td>\n",
              "      <td>30.96</td>\n",
              "      <td>...</td>\n",
              "      <td>41.00</td>\n",
              "      <td>112.00</td>\n",
              "      <td>198.0</td>\n",
              "      <td>34.51</td>\n",
              "      <td>17.08</td>\n",
              "      <td>3.00</td>\n",
              "      <td>24.00</td>\n",
              "      <td>34.00</td>\n",
              "      <td>43.00</td>\n",
              "      <td>105.00</td>\n",
              "    </tr>\n",
              "    <tr>\n",
              "      <th>total sulfur dioxide</th>\n",
              "      <td>2384.0</td>\n",
              "      <td>119.28</td>\n",
              "      <td>61.89</td>\n",
              "      <td>6.00</td>\n",
              "      <td>68.00</td>\n",
              "      <td>124.00</td>\n",
              "      <td>167.00</td>\n",
              "      <td>440.00</td>\n",
              "      <td>3915.0</td>\n",
              "      <td>113.51</td>\n",
              "      <td>...</td>\n",
              "      <td>150.00</td>\n",
              "      <td>294.00</td>\n",
              "      <td>198.0</td>\n",
              "      <td>117.48</td>\n",
              "      <td>41.69</td>\n",
              "      <td>12.00</td>\n",
              "      <td>96.00</td>\n",
              "      <td>118.50</td>\n",
              "      <td>145.00</td>\n",
              "      <td>212.50</td>\n",
              "    </tr>\n",
              "    <tr>\n",
              "      <th>density</th>\n",
              "      <td>2384.0</td>\n",
              "      <td>1.00</td>\n",
              "      <td>0.00</td>\n",
              "      <td>0.99</td>\n",
              "      <td>0.99</td>\n",
              "      <td>1.00</td>\n",
              "      <td>1.00</td>\n",
              "      <td>1.00</td>\n",
              "      <td>3915.0</td>\n",
              "      <td>0.99</td>\n",
              "      <td>...</td>\n",
              "      <td>1.00</td>\n",
              "      <td>1.04</td>\n",
              "      <td>198.0</td>\n",
              "      <td>0.99</td>\n",
              "      <td>0.00</td>\n",
              "      <td>0.99</td>\n",
              "      <td>0.99</td>\n",
              "      <td>0.99</td>\n",
              "      <td>0.99</td>\n",
              "      <td>1.00</td>\n",
              "    </tr>\n",
              "    <tr>\n",
              "      <th>pH</th>\n",
              "      <td>2384.0</td>\n",
              "      <td>3.21</td>\n",
              "      <td>0.16</td>\n",
              "      <td>2.74</td>\n",
              "      <td>3.11</td>\n",
              "      <td>3.20</td>\n",
              "      <td>3.31</td>\n",
              "      <td>3.90</td>\n",
              "      <td>3915.0</td>\n",
              "      <td>3.22</td>\n",
              "      <td>...</td>\n",
              "      <td>3.33</td>\n",
              "      <td>4.01</td>\n",
              "      <td>198.0</td>\n",
              "      <td>3.23</td>\n",
              "      <td>0.16</td>\n",
              "      <td>2.88</td>\n",
              "      <td>3.13</td>\n",
              "      <td>3.23</td>\n",
              "      <td>3.33</td>\n",
              "      <td>3.72</td>\n",
              "    </tr>\n",
              "    <tr>\n",
              "      <th>sulphates</th>\n",
              "      <td>2384.0</td>\n",
              "      <td>0.52</td>\n",
              "      <td>0.14</td>\n",
              "      <td>0.25</td>\n",
              "      <td>0.44</td>\n",
              "      <td>0.50</td>\n",
              "      <td>0.58</td>\n",
              "      <td>2.00</td>\n",
              "      <td>3915.0</td>\n",
              "      <td>0.54</td>\n",
              "      <td>...</td>\n",
              "      <td>0.61</td>\n",
              "      <td>1.95</td>\n",
              "      <td>198.0</td>\n",
              "      <td>0.51</td>\n",
              "      <td>0.16</td>\n",
              "      <td>0.25</td>\n",
              "      <td>0.38</td>\n",
              "      <td>0.48</td>\n",
              "      <td>0.60</td>\n",
              "      <td>1.10</td>\n",
              "    </tr>\n",
              "    <tr>\n",
              "      <th>alcohol</th>\n",
              "      <td>2384.0</td>\n",
              "      <td>9.87</td>\n",
              "      <td>0.84</td>\n",
              "      <td>8.00</td>\n",
              "      <td>9.30</td>\n",
              "      <td>9.60</td>\n",
              "      <td>10.40</td>\n",
              "      <td>14.90</td>\n",
              "      <td>3915.0</td>\n",
              "      <td>10.81</td>\n",
              "      <td>...</td>\n",
              "      <td>11.70</td>\n",
              "      <td>14.20</td>\n",
              "      <td>198.0</td>\n",
              "      <td>11.69</td>\n",
              "      <td>1.27</td>\n",
              "      <td>8.50</td>\n",
              "      <td>11.00</td>\n",
              "      <td>12.00</td>\n",
              "      <td>12.60</td>\n",
              "      <td>14.00</td>\n",
              "    </tr>\n",
              "    <tr>\n",
              "      <th>quality</th>\n",
              "      <td>2384.0</td>\n",
              "      <td>4.88</td>\n",
              "      <td>0.36</td>\n",
              "      <td>3.00</td>\n",
              "      <td>5.00</td>\n",
              "      <td>5.00</td>\n",
              "      <td>5.00</td>\n",
              "      <td>5.00</td>\n",
              "      <td>3915.0</td>\n",
              "      <td>6.28</td>\n",
              "      <td>...</td>\n",
              "      <td>7.00</td>\n",
              "      <td>7.00</td>\n",
              "      <td>198.0</td>\n",
              "      <td>8.03</td>\n",
              "      <td>0.16</td>\n",
              "      <td>8.00</td>\n",
              "      <td>8.00</td>\n",
              "      <td>8.00</td>\n",
              "      <td>8.00</td>\n",
              "      <td>9.00</td>\n",
              "    </tr>\n",
              "  </tbody>\n",
              "</table>\n",
              "<p>12 rows × 24 columns</p>\n",
              "</div>\n",
              "      <button class=\"colab-df-convert\" onclick=\"convertToInteractive('df-75a4131a-54ec-4c9b-9a1b-5270dda8a7e0')\"\n",
              "              title=\"Convert this dataframe to an interactive table.\"\n",
              "              style=\"display:none;\">\n",
              "        \n",
              "  <svg xmlns=\"http://www.w3.org/2000/svg\" height=\"24px\"viewBox=\"0 0 24 24\"\n",
              "       width=\"24px\">\n",
              "    <path d=\"M0 0h24v24H0V0z\" fill=\"none\"/>\n",
              "    <path d=\"M18.56 5.44l.94 2.06.94-2.06 2.06-.94-2.06-.94-.94-2.06-.94 2.06-2.06.94zm-11 1L8.5 8.5l.94-2.06 2.06-.94-2.06-.94L8.5 2.5l-.94 2.06-2.06.94zm10 10l.94 2.06.94-2.06 2.06-.94-2.06-.94-.94-2.06-.94 2.06-2.06.94z\"/><path d=\"M17.41 7.96l-1.37-1.37c-.4-.4-.92-.59-1.43-.59-.52 0-1.04.2-1.43.59L10.3 9.45l-7.72 7.72c-.78.78-.78 2.05 0 2.83L4 21.41c.39.39.9.59 1.41.59.51 0 1.02-.2 1.41-.59l7.78-7.78 2.81-2.81c.8-.78.8-2.07 0-2.86zM5.41 20L4 18.59l7.72-7.72 1.47 1.35L5.41 20z\"/>\n",
              "  </svg>\n",
              "      </button>\n",
              "      \n",
              "  <style>\n",
              "    .colab-df-container {\n",
              "      display:flex;\n",
              "      flex-wrap:wrap;\n",
              "      gap: 12px;\n",
              "    }\n",
              "\n",
              "    .colab-df-convert {\n",
              "      background-color: #E8F0FE;\n",
              "      border: none;\n",
              "      border-radius: 50%;\n",
              "      cursor: pointer;\n",
              "      display: none;\n",
              "      fill: #1967D2;\n",
              "      height: 32px;\n",
              "      padding: 0 0 0 0;\n",
              "      width: 32px;\n",
              "    }\n",
              "\n",
              "    .colab-df-convert:hover {\n",
              "      background-color: #E2EBFA;\n",
              "      box-shadow: 0px 1px 2px rgba(60, 64, 67, 0.3), 0px 1px 3px 1px rgba(60, 64, 67, 0.15);\n",
              "      fill: #174EA6;\n",
              "    }\n",
              "\n",
              "    [theme=dark] .colab-df-convert {\n",
              "      background-color: #3B4455;\n",
              "      fill: #D2E3FC;\n",
              "    }\n",
              "\n",
              "    [theme=dark] .colab-df-convert:hover {\n",
              "      background-color: #434B5C;\n",
              "      box-shadow: 0px 1px 3px 1px rgba(0, 0, 0, 0.15);\n",
              "      filter: drop-shadow(0px 1px 2px rgba(0, 0, 0, 0.3));\n",
              "      fill: #FFFFFF;\n",
              "    }\n",
              "  </style>\n",
              "\n",
              "      <script>\n",
              "        const buttonEl =\n",
              "          document.querySelector('#df-75a4131a-54ec-4c9b-9a1b-5270dda8a7e0 button.colab-df-convert');\n",
              "        buttonEl.style.display =\n",
              "          google.colab.kernel.accessAllowed ? 'block' : 'none';\n",
              "\n",
              "        async function convertToInteractive(key) {\n",
              "          const element = document.querySelector('#df-75a4131a-54ec-4c9b-9a1b-5270dda8a7e0');\n",
              "          const dataTable =\n",
              "            await google.colab.kernel.invokeFunction('convertToInteractive',\n",
              "                                                     [key], {});\n",
              "          if (!dataTable) return;\n",
              "\n",
              "          const docLinkHtml = 'Like what you see? Visit the ' +\n",
              "            '<a target=\"_blank\" href=https://colab.research.google.com/notebooks/data_table.ipynb>data table notebook</a>'\n",
              "            + ' to learn more about interactive tables.';\n",
              "          element.innerHTML = '';\n",
              "          dataTable['output_type'] = 'display_data';\n",
              "          await google.colab.output.renderOutput(dataTable, element);\n",
              "          const docLink = document.createElement('div');\n",
              "          docLink.innerHTML = docLinkHtml;\n",
              "          element.appendChild(docLink);\n",
              "        }\n",
              "      </script>\n",
              "    </div>\n",
              "  </div>\n",
              "  "
            ]
          },
          "metadata": {},
          "execution_count": 17
        }
      ]
    },
    {
      "cell_type": "markdown",
      "source": [
        "Highlights from descriptive statisct of type perspective above:\n",
        "\n",
        "*   Mean residual sugar and total sulfur dioxide content in white wine seems to be much higher than red wine.\n",
        "*   Mean value of sulphates, fixed acidity and volatile acidity seem to be higher in red wine as compared to white wine.\n",
        "*  In general, white wines has half concentrations of chlorides then red wines.\n",
        "* From all numbers, we can observe that citric acid is more present in white than red wines.\n",
        "* Although in Ph the difference seems small it is interesting to note that it is slightly larger in green red wines.\n",
        "\n",
        "\n"
      ],
      "metadata": {
        "id": "TibNL-DfpGxg"
      }
    },
    {
      "cell_type": "markdown",
      "source": [
        "### Prepare type and quality label target variable"
      ],
      "metadata": {
        "id": "6ponNS7mcKtx"
      }
    },
    {
      "cell_type": "code",
      "source": [
        "class_tp = LabelEncoder()\n",
        "y_tp = class_tp.fit_transform(wine_data.type.values) # 1 - White; 0 - Red\n",
        "wine_data['color'] = y_tp\n",
        "\n",
        "class_ql = {'low':0, 'medium': 1, 'high': 2} \n",
        "y_ql = wine_data.quality_label.map(class_ql)"
      ],
      "metadata": {
        "id": "ZFzDZnj4cFLW"
      },
      "execution_count": 18,
      "outputs": []
    },
    {
      "cell_type": "markdown",
      "source": [
        "### Split the data into train and test for **Wine type classifier model**"
      ],
      "metadata": {
        "id": "kbI6VpAkcgBO"
      }
    },
    {
      "cell_type": "code",
      "source": [
        "cols = wine_data.columns\n",
        "cols = list(cols.drop(['type', 'quality_label', 'color']))\n",
        "X_train_c, X_test_c, y_train_c, y_test_c = train_test_split(wine_data.loc[:, cols], y_tp, test_size=0.20, random_state=101)"
      ],
      "metadata": {
        "id": "lQgW70Ascl70"
      },
      "execution_count": 47,
      "outputs": []
    },
    {
      "cell_type": "code",
      "source": [
        "X_train_c['y_train'] = y_train_c.tolist()"
      ],
      "metadata": {
        "id": "ZBNrHz5sL5_r"
      },
      "execution_count": 48,
      "outputs": []
    },
    {
      "cell_type": "code",
      "source": [
        "X_test_c['y_test'] = y_test_c.tolist()"
      ],
      "metadata": {
        "id": "rn1vXkcdOHEc"
      },
      "execution_count": 49,
      "outputs": []
    },
    {
      "cell_type": "markdown",
      "source": [
        "Export the datasets to csv"
      ],
      "metadata": {
        "id": "Eo86fLnUi9XO"
      }
    },
    {
      "cell_type": "code",
      "source": [
        "from google.colab import files\n",
        "\n",
        "X_train_c.to_csv('X_train_c.csv', encoding = 'utf-8-sig') \n",
        "files.download('X_train_c.csv')\n",
        "X_test_c.to_csv('X_test_c.csv', encoding = 'utf-8-sig') \n",
        "files.download('X_test_c.csv')"
      ],
      "metadata": {
        "colab": {
          "base_uri": "https://localhost:8080/",
          "height": 17
        },
        "id": "nBfnQXBYcp9r",
        "outputId": "11683b82-ac73-4687-8c13-75ac04dc2de2"
      },
      "execution_count": 50,
      "outputs": [
        {
          "output_type": "display_data",
          "data": {
            "text/plain": [
              "<IPython.core.display.Javascript object>"
            ],
            "application/javascript": [
              "\n",
              "    async function download(id, filename, size) {\n",
              "      if (!google.colab.kernel.accessAllowed) {\n",
              "        return;\n",
              "      }\n",
              "      const div = document.createElement('div');\n",
              "      const label = document.createElement('label');\n",
              "      label.textContent = `Downloading \"${filename}\": `;\n",
              "      div.appendChild(label);\n",
              "      const progress = document.createElement('progress');\n",
              "      progress.max = size;\n",
              "      div.appendChild(progress);\n",
              "      document.body.appendChild(div);\n",
              "\n",
              "      const buffers = [];\n",
              "      let downloaded = 0;\n",
              "\n",
              "      const channel = await google.colab.kernel.comms.open(id);\n",
              "      // Send a message to notify the kernel that we're ready.\n",
              "      channel.send({})\n",
              "\n",
              "      for await (const message of channel.messages) {\n",
              "        // Send a message to notify the kernel that we're ready.\n",
              "        channel.send({})\n",
              "        if (message.buffers) {\n",
              "          for (const buffer of message.buffers) {\n",
              "            buffers.push(buffer);\n",
              "            downloaded += buffer.byteLength;\n",
              "            progress.value = downloaded;\n",
              "          }\n",
              "        }\n",
              "      }\n",
              "      const blob = new Blob(buffers, {type: 'application/binary'});\n",
              "      const a = document.createElement('a');\n",
              "      a.href = window.URL.createObjectURL(blob);\n",
              "      a.download = filename;\n",
              "      div.appendChild(a);\n",
              "      a.click();\n",
              "      div.remove();\n",
              "    }\n",
              "  "
            ]
          },
          "metadata": {}
        },
        {
          "output_type": "display_data",
          "data": {
            "text/plain": [
              "<IPython.core.display.Javascript object>"
            ],
            "application/javascript": [
              "download(\"download_aae63b09-a7fd-465e-b1f7-f41fa5a494f4\", \"X_train_c.csv\", 338912)"
            ]
          },
          "metadata": {}
        },
        {
          "output_type": "display_data",
          "data": {
            "text/plain": [
              "<IPython.core.display.Javascript object>"
            ],
            "application/javascript": [
              "\n",
              "    async function download(id, filename, size) {\n",
              "      if (!google.colab.kernel.accessAllowed) {\n",
              "        return;\n",
              "      }\n",
              "      const div = document.createElement('div');\n",
              "      const label = document.createElement('label');\n",
              "      label.textContent = `Downloading \"${filename}\": `;\n",
              "      div.appendChild(label);\n",
              "      const progress = document.createElement('progress');\n",
              "      progress.max = size;\n",
              "      div.appendChild(progress);\n",
              "      document.body.appendChild(div);\n",
              "\n",
              "      const buffers = [];\n",
              "      let downloaded = 0;\n",
              "\n",
              "      const channel = await google.colab.kernel.comms.open(id);\n",
              "      // Send a message to notify the kernel that we're ready.\n",
              "      channel.send({})\n",
              "\n",
              "      for await (const message of channel.messages) {\n",
              "        // Send a message to notify the kernel that we're ready.\n",
              "        channel.send({})\n",
              "        if (message.buffers) {\n",
              "          for (const buffer of message.buffers) {\n",
              "            buffers.push(buffer);\n",
              "            downloaded += buffer.byteLength;\n",
              "            progress.value = downloaded;\n",
              "          }\n",
              "        }\n",
              "      }\n",
              "      const blob = new Blob(buffers, {type: 'application/binary'});\n",
              "      const a = document.createElement('a');\n",
              "      a.href = window.URL.createObjectURL(blob);\n",
              "      a.download = filename;\n",
              "      div.appendChild(a);\n",
              "      a.click();\n",
              "      div.remove();\n",
              "    }\n",
              "  "
            ]
          },
          "metadata": {}
        },
        {
          "output_type": "display_data",
          "data": {
            "text/plain": [
              "<IPython.core.display.Javascript object>"
            ],
            "application/javascript": [
              "download(\"download_1a1edcf3-09f8-41b6-84ea-281f8ff86b42\", \"X_test_c.csv\", 84867)"
            ]
          },
          "metadata": {}
        }
      ]
    },
    {
      "cell_type": "markdown",
      "source": [
        "### Split the data into train and test for **Wine quality regression model**"
      ],
      "metadata": {
        "id": "Tx7KfwiqjEd8"
      }
    },
    {
      "cell_type": "code",
      "source": [
        "wqp_class_labels = np.array(wine_data['quality_label'])\n",
        "target_names = ['low', 'medium', 'high']\n",
        "\n",
        "cols = wine_data.columns\n",
        "cols = list(cols.drop(['type', 'quality_label', 'quality']))\n",
        "X_train_r, X_test_r, y_train_r, y_test_r = train_test_split(wine_data.loc[:, cols], y_ql.values, test_size=0.20, random_state=101)"
      ],
      "metadata": {
        "id": "W4h9h6I0jMrI"
      },
      "execution_count": 51,
      "outputs": []
    },
    {
      "cell_type": "code",
      "source": [
        "X_train_r['y_train'] = y_train_r.tolist()"
      ],
      "metadata": {
        "id": "ioWOqoiTjS1Y"
      },
      "execution_count": 52,
      "outputs": []
    },
    {
      "cell_type": "code",
      "source": [
        "X_test_r['y_test'] = y_test_r.tolist()"
      ],
      "metadata": {
        "id": "NOEj6ZtYjW3G"
      },
      "execution_count": 53,
      "outputs": []
    },
    {
      "cell_type": "markdown",
      "source": [
        "Export the datasets to csv"
      ],
      "metadata": {
        "id": "B0YJNCjqjawG"
      }
    },
    {
      "cell_type": "code",
      "source": [
        "from google.colab import files\n",
        "\n",
        "X_train_r.to_csv('X_train_r.csv', encoding = 'utf-8-sig') \n",
        "files.download('X_train_r.csv')\n",
        "X_test_r.to_csv('X_test_r.csv', encoding = 'utf-8-sig') \n",
        "files.download('X_test_r.csv')"
      ],
      "metadata": {
        "colab": {
          "base_uri": "https://localhost:8080/",
          "height": 17
        },
        "id": "BGWKXMZWjb7Z",
        "outputId": "b69ce4b9-1f52-4769-d262-eb9eec094855"
      },
      "execution_count": 54,
      "outputs": [
        {
          "output_type": "display_data",
          "data": {
            "text/plain": [
              "<IPython.core.display.Javascript object>"
            ],
            "application/javascript": [
              "\n",
              "    async function download(id, filename, size) {\n",
              "      if (!google.colab.kernel.accessAllowed) {\n",
              "        return;\n",
              "      }\n",
              "      const div = document.createElement('div');\n",
              "      const label = document.createElement('label');\n",
              "      label.textContent = `Downloading \"${filename}\": `;\n",
              "      div.appendChild(label);\n",
              "      const progress = document.createElement('progress');\n",
              "      progress.max = size;\n",
              "      div.appendChild(progress);\n",
              "      document.body.appendChild(div);\n",
              "\n",
              "      const buffers = [];\n",
              "      let downloaded = 0;\n",
              "\n",
              "      const channel = await google.colab.kernel.comms.open(id);\n",
              "      // Send a message to notify the kernel that we're ready.\n",
              "      channel.send({})\n",
              "\n",
              "      for await (const message of channel.messages) {\n",
              "        // Send a message to notify the kernel that we're ready.\n",
              "        channel.send({})\n",
              "        if (message.buffers) {\n",
              "          for (const buffer of message.buffers) {\n",
              "            buffers.push(buffer);\n",
              "            downloaded += buffer.byteLength;\n",
              "            progress.value = downloaded;\n",
              "          }\n",
              "        }\n",
              "      }\n",
              "      const blob = new Blob(buffers, {type: 'application/binary'});\n",
              "      const a = document.createElement('a');\n",
              "      a.href = window.URL.createObjectURL(blob);\n",
              "      a.download = filename;\n",
              "      div.appendChild(a);\n",
              "      a.click();\n",
              "      div.remove();\n",
              "    }\n",
              "  "
            ]
          },
          "metadata": {}
        },
        {
          "output_type": "display_data",
          "data": {
            "text/plain": [
              "<IPython.core.display.Javascript object>"
            ],
            "application/javascript": [
              "download(\"download_5d11cf3e-03f6-487b-98bf-3cd91be9c2fd\", \"X_train_r.csv\", 338910)"
            ]
          },
          "metadata": {}
        },
        {
          "output_type": "display_data",
          "data": {
            "text/plain": [
              "<IPython.core.display.Javascript object>"
            ],
            "application/javascript": [
              "\n",
              "    async function download(id, filename, size) {\n",
              "      if (!google.colab.kernel.accessAllowed) {\n",
              "        return;\n",
              "      }\n",
              "      const div = document.createElement('div');\n",
              "      const label = document.createElement('label');\n",
              "      label.textContent = `Downloading \"${filename}\": `;\n",
              "      div.appendChild(label);\n",
              "      const progress = document.createElement('progress');\n",
              "      progress.max = size;\n",
              "      div.appendChild(progress);\n",
              "      document.body.appendChild(div);\n",
              "\n",
              "      const buffers = [];\n",
              "      let downloaded = 0;\n",
              "\n",
              "      const channel = await google.colab.kernel.comms.open(id);\n",
              "      // Send a message to notify the kernel that we're ready.\n",
              "      channel.send({})\n",
              "\n",
              "      for await (const message of channel.messages) {\n",
              "        // Send a message to notify the kernel that we're ready.\n",
              "        channel.send({})\n",
              "        if (message.buffers) {\n",
              "          for (const buffer of message.buffers) {\n",
              "            buffers.push(buffer);\n",
              "            downloaded += buffer.byteLength;\n",
              "            progress.value = downloaded;\n",
              "          }\n",
              "        }\n",
              "      }\n",
              "      const blob = new Blob(buffers, {type: 'application/binary'});\n",
              "      const a = document.createElement('a');\n",
              "      a.href = window.URL.createObjectURL(blob);\n",
              "      a.download = filename;\n",
              "      div.appendChild(a);\n",
              "      a.click();\n",
              "      div.remove();\n",
              "    }\n",
              "  "
            ]
          },
          "metadata": {}
        },
        {
          "output_type": "display_data",
          "data": {
            "text/plain": [
              "<IPython.core.display.Javascript object>"
            ],
            "application/javascript": [
              "download(\"download_5cc2d28e-b2c4-4478-a655-eab292985dec\", \"X_test_r.csv\", 84865)"
            ]
          },
          "metadata": {}
        }
      ]
    },
    {
      "cell_type": "code",
      "source": [
        "#export also the dataset \n",
        "wine_data.to_csv('wine_data.csv', encoding = 'utf-8-sig') \n",
        "files.download('wine_data.csv')"
      ],
      "metadata": {
        "colab": {
          "base_uri": "https://localhost:8080/",
          "height": 17
        },
        "id": "b0YbaRKUTCA8",
        "outputId": "46bfc9ff-3d51-4422-baa9-c9653fbdbf26"
      },
      "execution_count": 41,
      "outputs": [
        {
          "output_type": "display_data",
          "data": {
            "text/plain": [
              "<IPython.core.display.Javascript object>"
            ],
            "application/javascript": [
              "\n",
              "    async function download(id, filename, size) {\n",
              "      if (!google.colab.kernel.accessAllowed) {\n",
              "        return;\n",
              "      }\n",
              "      const div = document.createElement('div');\n",
              "      const label = document.createElement('label');\n",
              "      label.textContent = `Downloading \"${filename}\": `;\n",
              "      div.appendChild(label);\n",
              "      const progress = document.createElement('progress');\n",
              "      progress.max = size;\n",
              "      div.appendChild(progress);\n",
              "      document.body.appendChild(div);\n",
              "\n",
              "      const buffers = [];\n",
              "      let downloaded = 0;\n",
              "\n",
              "      const channel = await google.colab.kernel.comms.open(id);\n",
              "      // Send a message to notify the kernel that we're ready.\n",
              "      channel.send({})\n",
              "\n",
              "      for await (const message of channel.messages) {\n",
              "        // Send a message to notify the kernel that we're ready.\n",
              "        channel.send({})\n",
              "        if (message.buffers) {\n",
              "          for (const buffer of message.buffers) {\n",
              "            buffers.push(buffer);\n",
              "            downloaded += buffer.byteLength;\n",
              "            progress.value = downloaded;\n",
              "          }\n",
              "        }\n",
              "      }\n",
              "      const blob = new Blob(buffers, {type: 'application/binary'});\n",
              "      const a = document.createElement('a');\n",
              "      a.href = window.URL.createObjectURL(blob);\n",
              "      a.download = filename;\n",
              "      div.appendChild(a);\n",
              "      a.click();\n",
              "      div.remove();\n",
              "    }\n",
              "  "
            ]
          },
          "metadata": {}
        },
        {
          "output_type": "display_data",
          "data": {
            "text/plain": [
              "<IPython.core.display.Javascript object>"
            ],
            "application/javascript": [
              "download(\"download_d3f7b14f-ccb0-43eb-8c8d-c091bdc5bab7\", \"wine_data.csv\", 497354)"
            ]
          },
          "metadata": {}
        }
      ]
    }
  ]
}